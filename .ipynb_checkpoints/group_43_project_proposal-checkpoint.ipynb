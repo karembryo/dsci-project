{
 "cells": [
  {
   "cell_type": "code",
   "execution_count": 2,
   "id": "a8def0a7-e4da-479e-9f16-f491183b75b6",
   "metadata": {},
   "outputs": [],
   "source": [
    "library(tidyverse)"
   ]
  },
  {
   "cell_type": "code",
   "execution_count": null,
   "id": "d64dcd45-f21d-4f77-ac6d-b613b1c7f40e",
   "metadata": {},
   "outputs": [],
   "source": [
    "Hello"
   ]
  }
 ],
 "metadata": {
  "kernelspec": {
   "display_name": "R",
   "language": "R",
   "name": "ir"
  },
  "language_info": {
   "codemirror_mode": "r",
   "file_extension": ".r",
   "mimetype": "text/x-r-source",
   "name": "R",
   "pygments_lexer": "r",
   "version": "4.1.3"
  }
 },
 "nbformat": 4,
 "nbformat_minor": 5
}
