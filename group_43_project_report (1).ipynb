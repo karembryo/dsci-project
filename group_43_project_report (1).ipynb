{
 "cells": [
  {
   "cell_type": "markdown",
   "id": "2a418dd7-cfea-47b3-b942-825e6eb742f8",
   "metadata": {},
   "source": [
    "**Title**: Classifying Exo-Planet Types"
   ]
  },
  {
   "cell_type": "markdown",
   "id": "bfafe5c2-6852-4822-9a1c-0f390db66e2e",
   "metadata": {},
   "source": [
    "**Introduction**:\n",
    "\n",
    "When searching for earth-like planets in our galaxy, scientists are able to determine a planet’s radius, the planetary radius, and distance from its sun, also known as the orbital radius (Jones et al, 2008; Otegi et al, 2020). These two characteristics help determine the composition and density of planets and, ultimately, whether or not a planet is habitable. NASA states that a potentially habitable planet is a planet that can sustain life for a significant period, requiring water, energy and nutrients, although this definition of a habitable planet changes as new discoveries are made (NASA, 2023). The size of a planet is critical for habitability because it must have enough gravity to hold water on its surface (Jones, 2008). The distance from a sun is also indicative of habitability as this relates to temperature, which in turn affects if water can exist on the surface in liquid form (Jones, 2008). The distance in which water can exist on the planet is known as the habitable zone (NASA, 2023)\n",
    "\n",
    "When scientists identify a new exoplanet - a planet that is found outside of our solar system - they typically classify it as either Neptune-like, Gas-Giant, Super Earth, Terrestrial or Unknown. The type of planet can be indicative of habitability as well. Gaseous planets, like Gas-Giants, are considered uninhabitable because, while they may have a core of rock or metal, the surface is under extreme pressure from the rest of the planet and they lack a solid surface to stand on (Papiewski, 2019). Super-Earths may be rocky, but often lack atmospheres, making them also uninhabitable (NASA, 2023). On the other hand, terrestrial planets, like our own, have in the past been found to be the right size and distance from a sun to support water. \n",
    "\n",
    "For this reason, we are attempting to look at the planet’s radius and orbital radius from their sun in order to classify it into one of the following categories: Neptune-like, Gas-Giant, Super Earth, Terrestrial and Unknown. This will help us answer the question: Given orbital radius and planetary radius, can we accurately classify exoplanets? Answering this question can help screen planets so that only terrestrial planets are investigated for habitability in the future. To address this question, we will be using the dataset “NASA Exoplanets” obtained from the website Kaggle. This dataset contains a comprehensive archive of all of the planets outside of our solar system, known as exoplanets, that NASA has discovered. It includes information on each planet’s name, brightness, year of discovery, distance from Earth, orbital radius, radius, mass and planet type."
   ]
  },
  {
   "cell_type": "markdown",
   "id": "b2eedbc0-a34c-4d10-a589-57c915946553",
   "metadata": {},
   "source": [
    "**Methods**:"
   ]
  },
  {
   "cell_type": "markdown",
   "id": "62d54f58-40e7-4268-8274-4545a2ac0f24",
   "metadata": {},
   "source": [
    "*Loading Data*\n",
    "\n",
    "In order to work with our data set, we loaded the required notebooks onto our Jupyter notebook. We then loaded our data from a Google Sheet on the web to Jupyter using the read_csv() function. The first 10 lines of the data set were printed using the head() function. \n",
    "\n",
    "**Table 1: Original Exoplanet Data**: first 10 rows of exoplanet data, unwrangled and untidied"
   ]
  },
  {
   "cell_type": "code",
   "execution_count": 11,
   "id": "d64dcd45-f21d-4f77-ac6d-b613b1c7f40e",
   "metadata": {},
   "outputs": [
    {
     "name": "stderr",
     "output_type": "stream",
     "text": [
      "Installing package into ‘/home/jupyter/R/x86_64-pc-linux-gnu-library/4.2’\n",
      "(as ‘lib’ is unspecified)\n",
      "\n",
      "Warning message in install.packages(\"DiceDesign\"):\n",
      "“installation of package ‘DiceDesign’ had non-zero exit status”\n",
      "Installing package into ‘/home/jupyter/R/x86_64-pc-linux-gnu-library/4.2’\n",
      "(as ‘lib’ is unspecified)\n",
      "\n",
      "also installing the dependency ‘DiceDesign’\n",
      "\n",
      "\n",
      "Warning message in install.packages(\"dials\"):\n",
      "“installation of package ‘DiceDesign’ had non-zero exit status”\n",
      "Warning message in install.packages(\"dials\"):\n",
      "“installation of package ‘dials’ had non-zero exit status”\n"
     ]
    },
    {
     "ename": "ERROR",
     "evalue": "Error in library(tidymodels): there is no package called ‘tidymodels’\n",
     "output_type": "error",
     "traceback": [
      "Error in library(tidymodels): there is no package called ‘tidymodels’\nTraceback:\n",
      "1. library(tidymodels)"
     ]
    }
   ],
   "source": [
    "library(tidyverse)\n",
    "library(repr)\n",
    "library(tidymodels)\n",
    "\n",
    "data <- read_csv(\"https://drive.google.com/uc?export=download&id=1DFDwrd-1pEzLSik8UhBRZsVjOfAkRI4B\")\n",
    "head(data)"
   ]
  },
  {
   "cell_type": "markdown",
   "id": "bb2baed7-3a62-490b-abff-2c36416e2a3d",
   "metadata": {},
   "source": [
    "*Tidying the data*\n",
    "\n",
    "Certain variables in the data had information split up between two columns, including the radius of the planet, which we planned to use in our analysis. Specifically, information about the radius was stored in the column radius_wrt, with the name of a planet in our solar system that the given planet could be compared to, and radius_multiplier, which contained a multiplier of the planet in radius_wrt. To convert the data into a format that we could use for our analysis, we had to combine the information from these two columns, to produce a single radius value. Planets differed in what they were measured with respect to (Earth vs Jupiter). To standardize radii, we created a column called radius_wrt_num. For all planets in which radius_wrt was Earth, the value of this column was set to 1  and for all those with Jupiter, this value was 11.2. As the size of Jupiter is approximately 11.2 times greater than Earth, this change allowed us to then compute all of the radii relative to Earth by multiplying the radius_wrt_num column by the radius_multiplier column. This new value was stored in a new column called  planetary_radius_prop and radius_wrt_num was removed from the data set. \n",
    "\n",
    "\n",
    "In addition, we used subset() to ensure that we only kept data points that did not have empty variables for planetary_radius_prop or orbital_radius and converted planet_type to a factor.\n",
    "\n",
    "**Table 2: Clean Exoplanet Data**: first 10 rows of modified exoplanet data, with new column, planetary_radius_prop, that represents the planetary radius in relation to Earth"
   ]
  },
  {
   "cell_type": "code",
   "execution_count": null,
   "id": "6686f19a-5e51-4721-ba95-6b977f319aae",
   "metadata": {},
   "outputs": [],
   "source": [
    "data$radius_wrt_num[data$radius_wrt == \"Earth\"] <- 1\n",
    "data$radius_wrt_num[data$radius_wrt == \"Jupiter\"] <- 11.2\n",
    "data$planet_type <- as.factor(data$planet_type)\n",
    "data <- data |>\n",
    "    mutate(planetary_radius_prop = radius_wrt_num * radius_multiplier) |>\n",
    "    select(-radius_wrt_num) \n",
    "\n",
    "data <- subset(data,orbital_radius != \"\" )\n",
    "\n",
    "data <-subset(data,planetary_radius_prop != \"\" )\n",
    "head(data)"
   ]
  },
  {
   "cell_type": "markdown",
   "id": "1dfa0469-e1ba-4463-b4bb-93f55996d865",
   "metadata": {},
   "source": [
    "*Splitting the data*\n",
    "\n",
    "We split it: 75% into a training set and 25% into a test set. Setting aside a portion of the data for testing allows us to better evaluate the accuracy of our model on novel data that has not influenced the making of the model afterwards. Setting Strata=planet_type ensured that each planet type was evenly distributed among both subsets."
   ]
  },
  {
   "cell_type": "code",
   "execution_count": 6,
   "id": "78e26c5b-9e9e-4d89-8f42-ee2cb1b6f276",
   "metadata": {},
   "outputs": [
    {
     "name": "stderr",
     "output_type": "stream",
     "text": [
      "\u001b[1mRows: \u001b[22m\u001b[34m5250\u001b[39m \u001b[1mColumns: \u001b[22m\u001b[34m13\u001b[39m\n",
      "\u001b[36m──\u001b[39m \u001b[1mColumn specification\u001b[22m \u001b[36m────────────────────────────────────────────────────────\u001b[39m\n",
      "\u001b[1mDelimiter:\u001b[22m \",\"\n",
      "\u001b[31mchr\u001b[39m (5): name, planet_type, mass_wrt, radius_wrt, detection_method\n",
      "\u001b[32mdbl\u001b[39m (8): distance, stellar_magnitude, discovery_year, mass_multiplier, radiu...\n",
      "\n",
      "\u001b[36mℹ\u001b[39m Use `spec()` to retrieve the full column specification for this data.\n",
      "\u001b[36mℹ\u001b[39m Specify the column types or set `show_col_types = FALSE` to quiet this message.\n",
      "Warning message:\n",
      "“Unknown or uninitialised column: `radius_wrt_num`.”\n"
     ]
    },
    {
     "data": {
      "text/html": [
       "<table class=\"dataframe\">\n",
       "<caption>A tibble: 6 × 14</caption>\n",
       "<thead>\n",
       "\t<tr><th scope=col>name</th><th scope=col>distance</th><th scope=col>stellar_magnitude</th><th scope=col>planet_type</th><th scope=col>discovery_year</th><th scope=col>mass_multiplier</th><th scope=col>mass_wrt</th><th scope=col>radius_multiplier</th><th scope=col>radius_wrt</th><th scope=col>orbital_radius</th><th scope=col>orbital_period</th><th scope=col>eccentricity</th><th scope=col>detection_method</th><th scope=col>planetary_radius_prop</th></tr>\n",
       "\t<tr><th scope=col>&lt;chr&gt;</th><th scope=col>&lt;dbl&gt;</th><th scope=col>&lt;dbl&gt;</th><th scope=col>&lt;fct&gt;</th><th scope=col>&lt;dbl&gt;</th><th scope=col>&lt;dbl&gt;</th><th scope=col>&lt;chr&gt;</th><th scope=col>&lt;dbl&gt;</th><th scope=col>&lt;chr&gt;</th><th scope=col>&lt;dbl&gt;</th><th scope=col>&lt;dbl&gt;</th><th scope=col>&lt;dbl&gt;</th><th scope=col>&lt;chr&gt;</th><th scope=col>&lt;dbl&gt;</th></tr>\n",
       "</thead>\n",
       "<tbody>\n",
       "\t<tr><td>11 Comae Berenices b</td><td>304</td><td>4.72307</td><td>Gas Giant</td><td>2007</td><td>19.40000</td><td>Jupiter</td><td>1.08</td><td>Jupiter</td><td>1.290000</td><td>0.8925394</td><td>0.23</td><td>Radial Velocity</td><td>12.096</td></tr>\n",
       "\t<tr><td>11 Ursae Minoris b  </td><td>409</td><td>5.01300</td><td>Gas Giant</td><td>2009</td><td>14.74000</td><td>Jupiter</td><td>1.09</td><td>Jupiter</td><td>1.530000</td><td>1.4000000</td><td>0.08</td><td>Radial Velocity</td><td>12.208</td></tr>\n",
       "\t<tr><td>14 Andromedae b     </td><td>246</td><td>5.23133</td><td>Gas Giant</td><td>2008</td><td> 4.80000</td><td>Jupiter</td><td>1.15</td><td>Jupiter</td><td>0.830000</td><td>0.5086927</td><td>0.00</td><td>Radial Velocity</td><td>12.880</td></tr>\n",
       "\t<tr><td>14 Herculis b       </td><td> 58</td><td>6.61935</td><td>Gas Giant</td><td>2002</td><td> 8.13881</td><td>Jupiter</td><td>1.12</td><td>Jupiter</td><td>2.773069</td><td>4.8000000</td><td>0.37</td><td>Radial Velocity</td><td>12.544</td></tr>\n",
       "\t<tr><td>16 Cygni B b        </td><td> 69</td><td>6.21500</td><td>Gas Giant</td><td>1996</td><td> 1.78000</td><td>Jupiter</td><td>1.20</td><td>Jupiter</td><td>1.660000</td><td>2.2000000</td><td>0.68</td><td>Radial Velocity</td><td>13.440</td></tr>\n",
       "\t<tr><td>17 Scorpii b        </td><td>408</td><td>5.22606</td><td>Gas Giant</td><td>2020</td><td> 4.32000</td><td>Jupiter</td><td>1.15</td><td>Jupiter</td><td>1.450000</td><td>1.6000000</td><td>0.06</td><td>Radial Velocity</td><td>12.880</td></tr>\n",
       "</tbody>\n",
       "</table>\n"
      ],
      "text/latex": [
       "A tibble: 6 × 14\n",
       "\\begin{tabular}{llllllllllllll}\n",
       " name & distance & stellar\\_magnitude & planet\\_type & discovery\\_year & mass\\_multiplier & mass\\_wrt & radius\\_multiplier & radius\\_wrt & orbital\\_radius & orbital\\_period & eccentricity & detection\\_method & planetary\\_radius\\_prop\\\\\n",
       " <chr> & <dbl> & <dbl> & <fct> & <dbl> & <dbl> & <chr> & <dbl> & <chr> & <dbl> & <dbl> & <dbl> & <chr> & <dbl>\\\\\n",
       "\\hline\n",
       "\t 11 Comae Berenices b & 304 & 4.72307 & Gas Giant & 2007 & 19.40000 & Jupiter & 1.08 & Jupiter & 1.290000 & 0.8925394 & 0.23 & Radial Velocity & 12.096\\\\\n",
       "\t 11 Ursae Minoris b   & 409 & 5.01300 & Gas Giant & 2009 & 14.74000 & Jupiter & 1.09 & Jupiter & 1.530000 & 1.4000000 & 0.08 & Radial Velocity & 12.208\\\\\n",
       "\t 14 Andromedae b      & 246 & 5.23133 & Gas Giant & 2008 &  4.80000 & Jupiter & 1.15 & Jupiter & 0.830000 & 0.5086927 & 0.00 & Radial Velocity & 12.880\\\\\n",
       "\t 14 Herculis b        &  58 & 6.61935 & Gas Giant & 2002 &  8.13881 & Jupiter & 1.12 & Jupiter & 2.773069 & 4.8000000 & 0.37 & Radial Velocity & 12.544\\\\\n",
       "\t 16 Cygni B b         &  69 & 6.21500 & Gas Giant & 1996 &  1.78000 & Jupiter & 1.20 & Jupiter & 1.660000 & 2.2000000 & 0.68 & Radial Velocity & 13.440\\\\\n",
       "\t 17 Scorpii b         & 408 & 5.22606 & Gas Giant & 2020 &  4.32000 & Jupiter & 1.15 & Jupiter & 1.450000 & 1.6000000 & 0.06 & Radial Velocity & 12.880\\\\\n",
       "\\end{tabular}\n"
      ],
      "text/markdown": [
       "\n",
       "A tibble: 6 × 14\n",
       "\n",
       "| name &lt;chr&gt; | distance &lt;dbl&gt; | stellar_magnitude &lt;dbl&gt; | planet_type &lt;fct&gt; | discovery_year &lt;dbl&gt; | mass_multiplier &lt;dbl&gt; | mass_wrt &lt;chr&gt; | radius_multiplier &lt;dbl&gt; | radius_wrt &lt;chr&gt; | orbital_radius &lt;dbl&gt; | orbital_period &lt;dbl&gt; | eccentricity &lt;dbl&gt; | detection_method &lt;chr&gt; | planetary_radius_prop &lt;dbl&gt; |\n",
       "|---|---|---|---|---|---|---|---|---|---|---|---|---|---|\n",
       "| 11 Comae Berenices b | 304 | 4.72307 | Gas Giant | 2007 | 19.40000 | Jupiter | 1.08 | Jupiter | 1.290000 | 0.8925394 | 0.23 | Radial Velocity | 12.096 |\n",
       "| 11 Ursae Minoris b   | 409 | 5.01300 | Gas Giant | 2009 | 14.74000 | Jupiter | 1.09 | Jupiter | 1.530000 | 1.4000000 | 0.08 | Radial Velocity | 12.208 |\n",
       "| 14 Andromedae b      | 246 | 5.23133 | Gas Giant | 2008 |  4.80000 | Jupiter | 1.15 | Jupiter | 0.830000 | 0.5086927 | 0.00 | Radial Velocity | 12.880 |\n",
       "| 14 Herculis b        |  58 | 6.61935 | Gas Giant | 2002 |  8.13881 | Jupiter | 1.12 | Jupiter | 2.773069 | 4.8000000 | 0.37 | Radial Velocity | 12.544 |\n",
       "| 16 Cygni B b         |  69 | 6.21500 | Gas Giant | 1996 |  1.78000 | Jupiter | 1.20 | Jupiter | 1.660000 | 2.2000000 | 0.68 | Radial Velocity | 13.440 |\n",
       "| 17 Scorpii b         | 408 | 5.22606 | Gas Giant | 2020 |  4.32000 | Jupiter | 1.15 | Jupiter | 1.450000 | 1.6000000 | 0.06 | Radial Velocity | 12.880 |\n",
       "\n"
      ],
      "text/plain": [
       "  name                 distance stellar_magnitude planet_type discovery_year\n",
       "1 11 Comae Berenices b 304      4.72307           Gas Giant   2007          \n",
       "2 11 Ursae Minoris b   409      5.01300           Gas Giant   2009          \n",
       "3 14 Andromedae b      246      5.23133           Gas Giant   2008          \n",
       "4 14 Herculis b         58      6.61935           Gas Giant   2002          \n",
       "5 16 Cygni B b          69      6.21500           Gas Giant   1996          \n",
       "6 17 Scorpii b         408      5.22606           Gas Giant   2020          \n",
       "  mass_multiplier mass_wrt radius_multiplier radius_wrt orbital_radius\n",
       "1 19.40000        Jupiter  1.08              Jupiter    1.290000      \n",
       "2 14.74000        Jupiter  1.09              Jupiter    1.530000      \n",
       "3  4.80000        Jupiter  1.15              Jupiter    0.830000      \n",
       "4  8.13881        Jupiter  1.12              Jupiter    2.773069      \n",
       "5  1.78000        Jupiter  1.20              Jupiter    1.660000      \n",
       "6  4.32000        Jupiter  1.15              Jupiter    1.450000      \n",
       "  orbital_period eccentricity detection_method planetary_radius_prop\n",
       "1 0.8925394      0.23         Radial Velocity  12.096               \n",
       "2 1.4000000      0.08         Radial Velocity  12.208               \n",
       "3 0.5086927      0.00         Radial Velocity  12.880               \n",
       "4 4.8000000      0.37         Radial Velocity  12.544               \n",
       "5 2.2000000      0.68         Radial Velocity  13.440               \n",
       "6 1.6000000      0.06         Radial Velocity  12.880               "
      ]
     },
     "metadata": {},
     "output_type": "display_data"
    },
    {
     "ename": "ERROR",
     "evalue": "Error in initial_split(data, prop = 0.75, strata = planet_type): could not find function \"initial_split\"\n",
     "output_type": "error",
     "traceback": [
      "Error in initial_split(data, prop = 0.75, strata = planet_type): could not find function \"initial_split\"\nTraceback:\n"
     ]
    }
   ],
   "source": [
    "set.seed(1)\n",
    "split_data <- initial_split(data, prop = 0.75, strata = planet_type)\n",
    "data_train <- training(split_data) \n",
    "data_test <- testing(split_data)"
   ]
  },
  {
   "cell_type": "markdown",
   "id": "6174dd18-09df-449f-970b-6ed6107a2b95",
   "metadata": {},
   "source": [
    "*Data Exploration and Summary*\n",
    "\n",
    "The training set was used for exploration. The group_by and summarize functions allowed us to compute the percentage of each planet type in the dataset and the maximum and minimum orbital radii for each planet type. The results of these computations revealed that terrestrial planets made up a small but not negligible proportion of the data and that planet types varied from one another in the range of their orbital radii.\n",
    "\n",
    "**Table 3: Types of Planets and Distribution**: table displaying planet types, the number of planets under each category, and the percentage distribution of planet types"
   ]
  },
  {
   "cell_type": "code",
   "execution_count": null,
   "id": "263b92ae-f57a-4fcd-840c-fa33b32e4c33",
   "metadata": {},
   "outputs": [],
   "source": [
    "planet_types <- data_train |> \n",
    "    group_by(planet_type) |>\n",
    "    summarize(number_of_planets = n()) |>\n",
    "    mutate(percentage_of_total = round((number_of_planets/sum(number_of_planets))*100,2))\n",
    "planet_types "
   ]
  },
  {
   "cell_type": "markdown",
   "id": "edb663d3-c366-43c8-ad0e-41c1fca2205c",
   "metadata": {},
   "source": [
    "**Table 4: Orbital Radius Statistics**: table showing the range, maximum and minimum values, of orbital radii for each planet type"
   ]
  },
  {
   "cell_type": "code",
   "execution_count": null,
   "id": "cba824ee-1471-4a4a-9b24-da2a26bd980b",
   "metadata": {},
   "outputs": [],
   "source": [
    "orbital_radius <- data_train |>\n",
    "    group_by(planet_type) |>\n",
    "    summarize(orbital_min = min(orbital_radius, na.rm = TRUE),\n",
    "             orbital_max = max(orbital_radius, na.rm = TRUE))\n",
    "orbital_radius"
   ]
  },
  {
   "cell_type": "markdown",
   "id": "1808e3f8-d523-41ea-ad99-65305afc2672",
   "metadata": {},
   "source": [
    "*Data Visualization*\n",
    "\n",
    "To further explore the data, we made a bar chart that visualized the distribution of the planet types in the data set. This once again displayed that Neptune-like, Gas-Giant, Super Earth planets occurred relatively equally in the data, while terrestrial planets were rare. Because we were particularly interested in the relationship between orbital_radius and  planetary_radius_prop  with respect to the size of Earth, we plotted these two variables against each other in a scatterplot. Points were coloured to indicate different planet types. There were outliers in the data that had orbital radii that were larger than the majority of other points by a large magnitude, so we chose to put both variables on a logarithmic scale in order to avoid having the majority of the points bunched together. \n",
    "\n",
    "**Data Visualization 1**: Distribution of Planet Types"
   ]
  },
  {
   "cell_type": "code",
   "execution_count": null,
   "id": "9590fd47-1598-46b4-bfa0-e4210ea45d32",
   "metadata": {},
   "outputs": [],
   "source": [
    "options(repr.plot.width = 11, repr.plot.height = 11)\n",
    "\n",
    "planet_type_dist <- planet_types |>\n",
    "    select(-percentage_of_total) |>\n",
    "    ggplot(aes(x = planet_type, y = number_of_planets, fill = planet_type)) +\n",
    "    geom_bar(stat = \"identity\") +\n",
    "    labs(x = \"Type of Planet\", y = \"Number of Planets\", fill = \"Planet Types\") +\n",
    "    theme(text = element_text(size = 20)) +\n",
    "    ggtitle(\"Distribution of Planet Types\")\n",
    "planet_type_dist"
   ]
  },
  {
   "cell_type": "markdown",
   "id": "c10b5cec-2fa8-492b-a2c6-2fe64195b2bf",
   "metadata": {},
   "source": [
    "**Data Visualization 2**: How Planetary Radius and Orbital Radius Influences Planet Type"
   ]
  },
  {
   "cell_type": "code",
   "execution_count": null,
   "id": "89ff9b32-9f1a-4399-b98a-164c939b115b",
   "metadata": {},
   "outputs": [],
   "source": [
    "options(repr.plot.width = 11, repr.plot.height = 7)\n",
    "\n",
    "planet_dist <- data_train |>\n",
    "    select(planet_type,orbital_radius, planetary_radius_prop) |>\n",
    "    ggplot(aes(x = orbital_radius, y = planetary_radius_prop, color = planet_type)) +\n",
    "    geom_point(size = 2) +\n",
    "    labs(x = \"Orbital Radius (AU)\", y = \"Planetary Radius \\n Proportional to Earth\", color = \"Planet Type\") +\n",
    "    theme(text = element_text(size = 20)) +\n",
    "    ggtitle(\"Planetary Radius vs. Orbital Radius\") +\n",
    "    scale_x_log10(labels = label_comma()) +\n",
    "    scale_y_log10(labels = label_comma())\n",
    "planet_dist"
   ]
  },
  {
   "cell_type": "markdown",
   "id": "dfb1b37e-6843-4fd8-9de9-2cc12524e391",
   "metadata": {},
   "source": [
    "*Data Analysis*\n",
    "\n",
    "In our analysis, we created a classification model to predict the planet type based on its planetary radius and orbital radius. We used a k nearest neighbours algorithm to do this. First,  we made a recipe to scale and center the data, as the scale of the orbital radius was at a much greater magnitude than the planetary radius. Next, we determined the k value that would yield the highest accuracy by making 5 folds in the data using the vfold_cv function and creating a workflow with resampling. After running the data through workflow, we plotted the accuracy that was obtained from this cross-validation. When accuracy was graphed, it appeared relatively consistent across several k values, however, k = 5 was the highest. \n",
    "\n",
    " Using k=5 for our model, we combined our model and our recipe into a workflow fit to the training data. We performed our prediction first on the training data and then test data. Our predictions were stored under .predclass.  To see our prediction accuracy, we used the metrics function to display our accuracy with 1 being a perfect score. Our prediction accuracy was columned under .estimate."
   ]
  },
  {
   "cell_type": "code",
   "execution_count": null,
   "id": "280564df-8fff-419e-bba2-586c9922a870",
   "metadata": {},
   "outputs": [],
   "source": [
    "set.seed(1)\n",
    "planet_recipe <- recipe(planet_type ~ orbital_radius + planetary_radius_prop  , data = data_train) |>\n",
    "    step_scale(orbital_radius,planetary_radius_prop) |>\n",
    "    step_center(orbital_radius,planetary_radius_prop)\n",
    "\n",
    "knn_tune <- nearest_neighbor(weight_func = \"rectangular\" , neighbors = tune()) |>\n",
    "       set_engine(\"kknn\") |>\n",
    "       set_mode(\"classification\") \n",
    "\n",
    "data_vfold <- vfold_cv(data_train, v = 5, strata = planet_type)\n",
    "k_set <- tibble(neighbors = seq(from =2, to=6, by=1))\n",
    "\n",
    "knn_results <- workflow() |>\n",
    "       add_recipe(planet_recipe) |>\n",
    "       add_model(knn_tune) |>\n",
    "       tune_grid(resamples = data_vfold, grid = k_set) |>\n",
    "       collect_metrics()\n",
    "knn_results\n",
    "\n",
    "accuracies <- knn_results |> \n",
    "      filter(.metric == \"accuracy\")\n",
    "\n",
    "cross_val_plot <- ggplot(accuracies, aes(x = neighbors, y = mean))+\n",
    "       geom_point() +\n",
    "       geom_line() +\n",
    "       labs(x = \"Neighbors\", y = \"Accuracy Estimate\") +\n",
    "       theme(text = element_text(size = 15)) +\n",
    "       scale_x_continuous(breaks = seq(0, 14, by = 1)) +  # adjusting the x-axis\n",
    "       scale_y_continuous(limits = c(0.4, 1.0)) # adjusting the y-axis\n",
    "cross_val_plot\n"
   ]
  },
  {
   "cell_type": "code",
   "execution_count": null,
   "id": "9e96586d-cd9d-4dd0-98c1-a864cb84b9ab",
   "metadata": {},
   "outputs": [],
   "source": [
    "set.seed(1)\n",
    "options(repr.plot.height = 5, repr.plot.width = 6)\n",
    "\n",
    "\n",
    "planet_recipe <- recipe(planet_type ~ orbital_radius + planetary_radius_prop  , data = data_train) |>\n",
    "    step_scale(orbital_radius,planetary_radius_prop) |>\n",
    "    step_center(orbital_radius,planetary_radius_prop)\n",
    "\n",
    "\n",
    "planet_spec <- nearest_neighbor(weight_func = \"rectangular\" , neighbors = 5) |>\n",
    "       set_engine(\"kknn\") |>\n",
    "       set_mode(\"classification\")\n",
    "\n",
    "planet_fit <- workflow() |>\n",
    "       add_recipe(planet_recipe) |>\n",
    "       add_model(planet_spec) |>\n",
    "       fit(data = data_train)\n",
    "\n",
    "\n",
    "planet_train_predictions <- predict( planet_fit, data_train) |>\n",
    "    bind_cols(data_train)\n",
    "    head(planet_train_predictions)\n",
    "\n",
    "planet_prediction_accuracy <- planet_train_predictions |>\n",
    "        metrics(truth = .pred_class, estimate = planet_type)             \n",
    "planet_prediction_accuracy\n",
    "\n",
    "planet_test_predictions <- predict( planet_fit, data_test) |>\n",
    "    bind_cols(data_test)\n",
    "    head(planet_test_predictions)\n",
    "\n",
    "planet_prediction_accuracy2 <- planet_test_predictions |>\n",
    "        metrics(truth = .pred_class, estimate = planet_type)             \n",
    "planet_prediction_accuracy2"
   ]
  },
  {
   "cell_type": "markdown",
   "id": "9f19fb5b-ebda-400a-814b-501d484efce3",
   "metadata": {},
   "source": [
    "*Data Analysis – Visualization*\n",
    "\n",
    "To visualize the results of our analysis, we made a grid that contained data points that ranged from the minimum to the maximum of both variables and fed this through our workflow. By plotting this overlaid with the training data, we showed the areas of the plot that would result in the prediction of a given planet type."
   ]
  },
  {
   "cell_type": "code",
   "execution_count": null,
   "id": "3579cd33-5a6c-45d8-b71a-11405438717f",
   "metadata": {},
   "outputs": [],
   "source": [
    "options(repr.plot.width = 11, repr.plot.height = 7)\n",
    "\n",
    "train_plot <- ggplot()+ geom_point(data = planet_train_predictions , aes(x = orbital_radius , y = planetary_radius_prop , color = .pred_class ) , alpha = 0.75 ) +  labs(x = \"Orbital Radius (AU)\", y = \"Planetary Radius \\n Proportional to Earth\", color = \"Planet Type\") +\n",
    "    theme(text = element_text(size = 13)) +\n",
    "    ggtitle(\"Planetary Radius vs. Orbital Radius (Training Set)\") +\n",
    "    geom_point(data = data, \n",
    "             mapping = aes(x = orbital_radius, \n",
    "                           y = planetary_radius_prop, \n",
    "                           color = planet_type), \n",
    "             alpha = 0.02, \n",
    "             size = 5) +\n",
    "    scale_x_log10(labels = label_comma()) +\n",
    "    scale_y_log10(labels = label_comma()) \n",
    "train_plot\n",
    "\n",
    "test_plot <- ggplot(planet_test_predictions, aes(x = orbital_radius , y = planetary_radius_prop , color = .pred_class )) + \n",
    "    geom_point(size=1) + \n",
    "    labs(x = \"Orbital Radius (AU)\", y = \"Planetary Radius \\n Proportional to Earth\", color = \"Planet Type\") +\n",
    "    theme(text = element_text(size = 13)) +\n",
    "    ggtitle(\"Planetary Radius vs. Orbital Radius (Testing Set)\")+ \n",
    "    geom_point(data = data, \n",
    "             mapping = aes(x = orbital_radius, \n",
    "                           y = planetary_radius_prop, \n",
    "                           color = planet_type), \n",
    "             alpha = 0.02, \n",
    "             size = 5) +\n",
    "    scale_x_log10(labels = label_comma()) +\n",
    "    scale_y_log10(labels = label_comma())\n",
    "test_plot\n"
   ]
  },
  {
   "cell_type": "code",
   "execution_count": null,
   "id": "2d48955a-b886-4872-ba89-6b1553cc87ad",
   "metadata": {},
   "outputs": [],
   "source": [
    "or_grid <- seq(min(data_train$orbital_radius), \n",
    "                max(data_train$orbital_radius, by=25))\n",
    "prp_grid <- seq(min(data_train$planetary_radius_prop), \n",
    "                max(data_train$planetary_radius_prop, by=25))\n",
    "asgrid <- as_tibble(expand.grid(orbital_radius = or_grid, \n",
    "                                planetary_radius_prop = prp_grid))\n",
    "# use the fit workflow to make predictions at the grid points\n",
    "knnPredGrid <- predict(planet_fit, asgrid)\n",
    "\n",
    "# bind the predictions as a new column with the grid points\n",
    "prediction_table <- bind_cols(knnPredGrid, asgrid) |> \n",
    "  rename(planet_type = .pred_class)"
   ]
  },
  {
   "cell_type": "code",
   "execution_count": null,
   "id": "8c2dfa6b-aee2-4673-9a34-b6e0e2e6feb0",
   "metadata": {},
   "outputs": [],
   "source": [
    "#confusion matrix\n",
    "planet_test_predictions |> conf_mat(truth = planet_type, estimate = .pred_class)"
   ]
  },
  {
   "cell_type": "markdown",
   "id": "309a9828-bd75-4c51-a750-1e99c141db5d",
   "metadata": {},
   "source": [
    "**Discussion**:\n",
    "\n",
    "As a result of analyzing our classification model through the comparison of accuracy between testing (true) labels and the predictions, we found that our classifier has a 96.2% classification accuracy. In other words, 96 of 100 planets were correctly classified by our model. Due to the high classifier accuracy statistic, we can comfortably state that exoplanets can be classified into their respective planet types given orbital radius and planetary radius. However, just classifying the planet type using these factors may not be as effective as using more factors. For example, it could be more accurate if the mass of the planet was taken into account as rocky planet types like terrestrial or super-earth are probably more likely to have a higher mass. Furthermore, our estimates are limited to the data from our data set. There will be outliers that do not fit the patterns of the data that our classifier would predict incorrectly. Investigating the influences of other factors like the mass of the planet would be the next step in future classifying models. However, with a 96.2% prediction accuracy, this model is very effective.  \n",
    "\n",
    "We expected our findings to reflect that smaller planetary radii and orbital radii are rocky planet types and planets with larger planetary radii and orbital radii are gaseous planet types, where both variables hold relatively equal influence. Our classifier accuracy of 96.2% combined with the visualization of results supported our expected findings regarding the relationship between planetary and orbital radii and planet types. However, we discovered that planetary radii have a more significant influence on planet type than orbital radii, as depicted in our “Analysis Plot”, where horizontal lines can be seen to separate the various planet types. We also expected there to be some grey areas when planetary or orbital radii are neither large nor small. The error of 3.8% has supported our expectations in terms of incorrect classification of planet types due to indistinct statistics. After review, supported by statistics displayed in the confusion matrix, it appears that our model has a relatively weak understanding of Neptune-like planet types. To elaborate, when looking at the confusion matrix most cases of misclassification were where non-Neptune-like planets were classified as Neptune-like planets. This was especially the case with Super Earth and Gas Giant planet types, where 15 Gas Giants and 19 Super-Earths were classified by our model as Neptune-like planets. \n",
    "\n",
    "Identifying terrestrial planets with composition and gravity similar to that of Earth’s could be impactful as it could lead to discoveries of life in other areas of our galaxy. If other planets are similar to Earth, it is reasonable to explore the possibility that the conditions that lead to life here could also lead to life elsewhere.\n",
    "Using this confirmed relation between orbital radius, planetary radius, and planet type, we could simplify planet classification to accelerate the discovery of planets of certain types. For example, if you wanted to specifically look for a Super-Earth, the relationship proved by our classifier would allow for the assumption that only planets with smaller orbital and planetary radii should be examined. This saving on costs and analysis time would allow for a deeper examination of other variables or traits of the determined planets.\n",
    "\n",
    "Given the classification error, a future question could be what other predictor variable has a significant influence on planet types; when orbital and planetary radii are constant, what variables contribute to classifying a planet? As stated earlier in the discussion, a potential predictor variable that could help make the classification more accurate is the mass of the planet, but this would need to be confirmed by future studies. \n",
    "Some further questions we could ask is if the planet is habitable. We determined what type of planet it is and from there we could further narrow down to its habitability. Another question this could lead to is if this planet could be colonized by humans - how far away is it from Earth? This could result in some interesting discoveries that could lead humans to colonize planets that are already habitable across galaxies in the future instead of trying to make uninhabitable planets habitable like Mars."
   ]
  },
  {
   "cell_type": "markdown",
   "id": "9474836d-e235-4ca3-85b4-ca02bf8eb855",
   "metadata": {},
   "source": [
    "**References**\n",
    "\n",
    "Jones, B. (2008). Exoplanets – search methods, discoveries, and prospects for astrobiology. International Journal of Astrobiology, 7(3-4), 279-292. doi:10.1017/S147355040800428X\n",
    "\n",
    "Mishra, A. (2023). NASA Exoplanets. Retrieved 2023, from https://www.kaggle.com/datasets/adityamishraml/nasaexoplanets?select=cleaned_5250.csv. \n",
    "\n",
    "NASA. (2023). Sellers exoplanet environments collaboration (SEEC). NASA. Retrieved April 12, 2023, from https://seec.gsfc.nasa.gov/what_makes_a_planet_habitable.html#:~:text=The%20standard%20definition%20for%20a,water%2C%20energy%2C%20and%20nutrients. \n",
    "\n",
    "Otegi, J. F., Bouchy, F., & Helled, R. (2020). Revisited mass-radius relations for exoplanets below 120 m⊕. Astronomy & Astrophysics, 634. https://doi.org/10.1051/0004-6361/201936482 \n",
    "\n",
    "Papiewski, J. (2019, March 2). Three major characteristics of the inner planets. Sciencing. Retrieved April 12, 2023, from https://sciencing.com/three-major-characteristics-inner-planets-12917.html "
   ]
  }
 ],
 "metadata": {
  "kernelspec": {
   "display_name": "R",
   "language": "R",
   "name": "ir"
  },
  "language_info": {
   "codemirror_mode": "r",
   "file_extension": ".r",
   "mimetype": "text/x-r-source",
   "name": "R",
   "pygments_lexer": "r",
   "version": "4.2.3"
  }
 },
 "nbformat": 4,
 "nbformat_minor": 5
}
