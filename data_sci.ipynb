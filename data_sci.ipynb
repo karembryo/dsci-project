{
 "cells": [
  {
   "cell_type": "markdown",
   "id": "2a418dd7-cfea-47b3-b942-825e6eb742f8",
   "metadata": {},
   "source": [
    "**Exoplanet Classifier**"
   ]
  },
  {
   "cell_type": "markdown",
   "id": "5f519402-8399-4462-84f5-c3371246aebd",
   "metadata": {},
   "source": [
    "**Introduction**:\n",
    "• Provide some relevant background information on the topic so that someone unfamiliar with it will be prepared to understand the rest of your proposal\n",
    "• Clearly state the question you will try to answer with your project\n",
    "• Identify and describe the dataset that will be used to answer the question"
   ]
  },
  {
   "cell_type": "markdown",
   "id": "fd0fb502-0280-49f7-b46f-1acaf779138a",
   "metadata": {},
   "source": [
    "**Preliminary exploratory data analysis**:\n",
    "• Demonstrate that the dataset can be read from the web into R \n",
    "• Clean and wrangle your data into a tidy format\n",
    "• Using only training data, summarize the data in at least one table (this is exploratory data analysis). An example of a useful table could be one that reports the number of observations in each class, the means of the predictor variables you plan to use in your analysis and how many rows have missing data. \n",
    "• Using only training data, visualize the data with at least one plot relevant to the analysis you plan to do (this is exploratory data analysis). An example of a useful visualization could be one that compares the distributions of each of the predictor variables you plan to use in your analysis.\n"
   ]
  },
  {
   "cell_type": "code",
   "execution_count": null,
   "id": "3a10d254-f827-4396-8b27-148f11ffc91c",
   "metadata": {},
   "outputs": [],
   "source": [
    "# code here"
   ]
  },
  {
   "cell_type": "markdown",
   "id": "c0e862af-8056-4d8d-b149-26a136a715fd",
   "metadata": {},
   "source": [
    "**Methods**:\n",
    "• Explain how you will conduct either your data analysis and which variables/columns you will use. Note - you do not need to use all variables/columns that exist in the raw data set. In fact, that's often not a good idea. For each variable think: is this a useful variable for prediction?\n",
    "• Describe at least one way that you will visualize the results\n"
   ]
  },
  {
   "cell_type": "markdown",
   "id": "adad1bc8-4e71-4a2f-8324-9a087a85e709",
   "metadata": {},
   "source": [
    "**Expected outcomes and significance**:\n",
    "• What do you expect to find?\n",
    "• What impact could such findings have?\n",
    "• What future questions could this lead to?"
   ]
  },
  {
   "cell_type": "code",
   "execution_count": null,
   "id": "7f1a85d9-f844-475e-826e-7826ba2f8689",
   "metadata": {},
   "outputs": [],
   "source": []
  }
 ],
 "metadata": {
  "kernelspec": {
   "display_name": "R",
   "language": "R",
   "name": "ir"
  },
  "language_info": {
   "codemirror_mode": "r",
   "file_extension": ".r",
   "mimetype": "text/x-r-source",
   "name": "R",
   "pygments_lexer": "r",
   "version": "4.1.3"
  }
 },
 "nbformat": 4,
 "nbformat_minor": 5
}
